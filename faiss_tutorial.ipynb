{
 "cells": [
  {
   "cell_type": "markdown",
   "id": "93beaaa1-2486-48e2-9f20-624c6801e611",
   "metadata": {},
   "source": [
    "# Faiss Tutorial"
   ]
  },
  {
   "cell_type": "markdown",
   "id": "c6993797-ba5a-4a2a-9b39-f3ecc92652fb",
   "metadata": {},
   "source": [
    "## 라이브러리"
   ]
  },
  {
   "cell_type": "code",
   "execution_count": 6,
   "id": "2cee373b-2a00-4aca-a113-bcfb7156462c",
   "metadata": {},
   "outputs": [],
   "source": [
    "import numpy as np\n",
    "import faiss\n",
    "import matplotlib.pyplot as plt\n",
    "import time"
   ]
  },
  {
   "cell_type": "markdown",
   "id": "55a2604e-d528-4e3d-bbd1-adebfd3df991",
   "metadata": {},
   "source": [
    "## Dataset (SIFT1M, GIST1M)"
   ]
  },
  {
   "cell_type": "markdown",
   "id": "b6f267d3-e1c5-4031-bf5a-3bafa96fdd21",
   "metadata": {},
   "source": [
    "### 다운로드\n",
    "다운로드 링크: http://corpus-texmex.irisa.fr\n",
    "\n",
    "ex.\n",
    "다운 받은 파일: sift.tar.gz"
   ]
  },
  {
   "cell_type": "code",
   "execution_count": 3,
   "id": "9c3cef38-a835-4e7b-8d39-9723ccd4870e",
   "metadata": {},
   "outputs": [
    {
     "name": "stdout",
     "output_type": "stream",
     "text": [
      "sift/\n",
      "sift/sift_base.fvecs\n",
      "sift/sift_groundtruth.ivecs\n",
      "sift/sift_learn.fvecs\n",
      "sift/sift_query.fvecs\n"
     ]
    }
   ],
   "source": [
    "!tar -zxvf sift.tar.gz"
   ]
  },
  {
   "cell_type": "markdown",
   "id": "fdc4ee98-aede-4b4d-bd57-10c3087d6d18",
   "metadata": {},
   "source": [
    "### 파일 불러오기"
   ]
  },
  {
   "cell_type": "code",
   "execution_count": 1,
   "id": "6c4d33e4-3238-40ab-a572-5541485d7d34",
   "metadata": {},
   "outputs": [],
   "source": [
    "def read_fvecs(filename):\n",
    "    with open(filename, 'rb') as f:\n",
    "        # 읽기\n",
    "        data = np.fromfile(f, dtype='int32')\n",
    "        # 첫 번째 값을 차원으로 사용\n",
    "        dim = data[0]\n",
    "        # 데이터 변환 및 리턴\n",
    "        return data.reshape(-1, dim + 1)[:, 1:].astype('float32')"
   ]
  },
  {
   "cell_type": "code",
   "execution_count": 2,
   "id": "18120a7a-d8f7-46ec-83b6-bae72f093c2b",
   "metadata": {},
   "outputs": [],
   "source": [
    "def read_ivecs(filename):\n",
    "    with open(filename, 'rb') as f:\n",
    "        # 읽기\n",
    "        data = np.fromfile(f, dtype='int32')\n",
    "        # 첫 번째 값을 차원으로 사용\n",
    "        dim = data[0]\n",
    "        # 데이터 변환 및 리턴\n",
    "        return data.reshape(-1, dim + 1)[:, 1:]"
   ]
  },
  {
   "cell_type": "code",
   "execution_count": 4,
   "id": "d6ed84cf-9733-4eaa-8275-85a7ed364825",
   "metadata": {},
   "outputs": [],
   "source": [
    "# 파일 경로 설정\n",
    "\n",
    "## sift1m\n",
    "base_path = 'sift/sift_base.fvecs'\n",
    "learn_path = 'sift/sift_learn.fvecs'\n",
    "query_path = 'sift/sift_query.fvecs'\n",
    "groundtruth_path = 'sift/sift_groundtruth.ivecs'\n",
    "\n",
    "## gist1m\n",
    "base_path = 'gist/gist_base.fvecs'\n",
    "learn_path = 'gist/gist_learn.fvecs'\n",
    "query_path = 'gist/gist_query.fvecs'\n",
    "groundtruth_path = 'gist/gist_groundtruth.ivecs'"
   ]
  },
  {
   "cell_type": "code",
   "execution_count": 7,
   "id": "8f04ff26-f769-4634-92a8-a433eaa6c5ad",
   "metadata": {},
   "outputs": [],
   "source": [
    "# 파일 읽기\n",
    "base = read_fvecs(base_path)\n",
    "learn = read_fvecs(learn_path)\n",
    "query = read_fvecs(query_path)\n",
    "groundtruth = read_ivecs(groundtruth_path)"
   ]
  },
  {
   "cell_type": "code",
   "execution_count": 9,
   "id": "87edb0d2-8b0d-47c1-b787-182c372f810f",
   "metadata": {},
   "outputs": [
    {
     "name": "stdout",
     "output_type": "stream",
     "text": [
      "Base shape: (1000000, 128)\n",
      "Learn shape: (100000, 128)\n",
      "Query shape: (10000, 128)\n",
      "Groundtruth shape: (10000, 100)\n"
     ]
    }
   ],
   "source": [
    "# sift\n",
    "print(f'Base shape: {base.shape}')\n",
    "print(f'Learn shape: {learn.shape}')\n",
    "print(f'Query shape: {query.shape}')\n",
    "print(f'Groundtruth shape: {groundtruth.shape}')"
   ]
  },
  {
   "cell_type": "markdown",
   "id": "cdbb8be9-4c8c-4481-834a-0e64ac03d509",
   "metadata": {},
   "source": [
    "## Indexing"
   ]
  },
  {
   "cell_type": "code",
   "execution_count": 10,
   "id": "353a756a-88c6-455b-ac61-16ae57124913",
   "metadata": {},
   "outputs": [],
   "source": [
    "# 차원 수\n",
    "dim = base.shape[1]\n",
    "\n",
    "# FlatL2 인덱스 생성 및 학습\n",
    "index_flat = faiss.IndexFlatL2(dim)\n",
    "index_flat.add(base)\n",
    "\n",
    "# IVF 인덱스 생성 및 학습\n",
    "nlist = 100  # Number of clusters\n",
    "quantizer = faiss.IndexFlatL2(dim)\n",
    "index_ivf = faiss.IndexIVFFlat(quantizer, dim, nlist)\n",
    "index_ivf.train(learn)\n",
    "index_ivf.add(base)\n",
    "\n",
    "# HNSW 인덱스 생성 및 학습\n",
    "index_hnsw = faiss.IndexHNSWFlat(dim, 32)\n",
    "index_hnsw.add(base)"
   ]
  },
  {
   "cell_type": "markdown",
   "id": "facc65bd-e85a-4bf1-b540-4d97a0042c4a",
   "metadata": {},
   "source": [
    "## Search 성능 평가"
   ]
  },
  {
   "cell_type": "code",
   "execution_count": 11,
   "id": "81bc630c-5d1b-44a4-8a3f-e567717d3bce",
   "metadata": {},
   "outputs": [],
   "source": [
    "def search_and_measure(index, queries, groundtruth, k=5):\n",
    "    start_time = time.time()\n",
    "    distances, indices = index.search(queries, k)\n",
    "    query_time = time.time() - start_time\n",
    "    \n",
    "    recall = []\n",
    "    for i, neighbors in enumerate(indices):\n",
    "        gt = set(groundtruth[i])\n",
    "        retrieved = set(neighbors)\n",
    "        correct = len(gt & retrieved)\n",
    "        recall.append(correct / len(gt))\n",
    "    \n",
    "    avg_recall = np.mean(recall)\n",
    "    avg_query_time = query_time / len(queries)\n",
    "    \n",
    "    return avg_recall, avg_query_time"
   ]
  },
  {
   "cell_type": "code",
   "execution_count": 13,
   "id": "3d1a400e-4980-4762-96b8-59465f3bc974",
   "metadata": {},
   "outputs": [],
   "source": [
    "# IVF의 nprobe 값 변경에 따른 성능 측정\n",
    "nprobe_values = [1, 2, 5, 10, 20, 50, 100]\n",
    "ivf_results = []\n",
    "\n",
    "for nprobe in nprobe_values:\n",
    "    index_ivf.nprobe = nprobe\n",
    "    recall, query_time = search_and_measure(index_ivf, query, groundtruth, k=5)\n",
    "    ivf_results.append((recall, query_time))"
   ]
  },
  {
   "cell_type": "code",
   "execution_count": 14,
   "id": "49b88395-0ff0-4654-a460-67846247b548",
   "metadata": {},
   "outputs": [],
   "source": [
    "# HNSW의 efSearch 값 변경에 따른 성능 측정\n",
    "efSearch_values = [10, 20, 50, 100, 200, 500, 1000]\n",
    "hnsw_results = []\n",
    "\n",
    "for efSearch in efSearch_values:\n",
    "    index_hnsw.hnsw.efSearch = efSearch\n",
    "    recall, query_time = search_and_measure(index_hnsw, query, groundtruth, k=5)\n",
    "    hnsw_results.append((recall, query_time))"
   ]
  },
  {
   "cell_type": "markdown",
   "id": "9c730b9a-6949-4c31-94e5-5ae9218d3c67",
   "metadata": {},
   "source": [
    "## 시각화"
   ]
  },
  {
   "cell_type": "markdown",
   "id": "32da2081-6c43-4825-9377-0ea3b1d749b7",
   "metadata": {},
   "source": [
    "### SIFT"
   ]
  },
  {
   "cell_type": "code",
   "execution_count": 16,
   "id": "95ef44c1-a623-4d63-be1d-3ba80c267518",
   "metadata": {},
   "outputs": [
    {
     "data": {
      "image/png": "[encoded data removed]",
      "text/plain": [
       "<Figure size 1200x800 with 1 Axes>"
      ]
     },
     "metadata": {},
     "output_type": "display_data"
    }
   ],
   "source": [
    "# Recall 및 Query Time 시각화\n",
    "plt.figure(figsize=(12, 8))\n",
    "\n",
    "# IVF 결과 시각화\n",
    "ivf_recall_values = [result[0] for result in ivf_results]\n",
    "ivf_query_time_values = [result[1] for result in ivf_results]\n",
    "plt.plot(ivf_query_time_values, ivf_recall_values, label='IVF (nprobe)', marker='o')\n",
    "\n",
    "# HNSW 결과 시각화\n",
    "hnsw_recall_values = [result[0] for result in hnsw_results]\n",
    "hnsw_query_time_values = [result[1] for result in hnsw_results]\n",
    "plt.plot(hnsw_query_time_values, hnsw_recall_values, label='HNSW (efSearch)', marker='x')\n",
    "\n",
    "plt.xscale('log')\n",
    "plt.xlabel('Query time, ms')\n",
    "plt.ylabel('Recall')\n",
    "plt.title('Recall vs Query Time for IVF (nprobe) and HNSW (efSearch) on SIFT Datset')\n",
    "plt.legend()\n",
    "plt.grid(True)\n",
    "plt.savefig('figure/SIFT1M.png', format='png')\n",
    "plt.show()"
   ]
  },
  {
   "cell_type": "markdown",
   "id": "3b5a48d7-48d3-4dd8-82c1-1ca137cbc073",
   "metadata": {},
   "source": [
    "### GIST"
   ]
  },
  {
   "cell_type": "code",
   "execution_count": null,
   "id": "8a694f88-a9b7-49b9-bc46-5ff9467da64a",
   "metadata": {},
   "outputs": [],
   "source": [
    "# Recall 및 Query Time 시각화\n",
    "plt.figure(figsize=(12, 8))\n",
    "\n",
    "# IVF 결과 시각화\n",
    "ivf_recall_values = [result[0] for result in ivf_results]\n",
    "ivf_query_time_values = [result[1] for result in ivf_results]\n",
    "plt.plot(ivf_query_time_values, ivf_recall_values, label='IVF (nprobe)', marker='o')\n",
    "\n",
    "# HNSW 결과 시각화\n",
    "hnsw_recall_values = [result[0] for result in hnsw_results]\n",
    "hnsw_query_time_values = [result[1] for result in hnsw_results]\n",
    "plt.plot(hnsw_query_time_values, hnsw_recall_values, label='HNSW (efSearch)', marker='x')\n",
    "\n",
    "plt.xscale('log')\n",
    "plt.xlabel('Query time, ms')\n",
    "plt.ylabel('Recall')\n",
    "plt.title('Recall vs Query Time for IVF (nprobe) and HNSW (efSearch) on GIST Dataset')\n",
    "plt.legend()\n",
    "plt.grid(True)\n",
    "plt.savefig('figure/GIST1M', format='png')\n",
    "plt.show()"
   ]
  }
 ],
 "metadata": {
  "kernelspec": {
   "display_name": "Python 3 (ipykernel)",
   "language": "python",
   "name": "python3"
  },
  "language_info": {
   "codemirror_mode": {
    "name": "ipython",
    "version": 3
   },
   "file_extension": ".py",
   "mimetype": "text/x-python",
   "name": "python",
   "nbconvert_exporter": "python",
   "pygments_lexer": "ipython3",
   "version": "3.8.19"
  }
 },
 "nbformat": 4,
 "nbformat_minor": 5
}

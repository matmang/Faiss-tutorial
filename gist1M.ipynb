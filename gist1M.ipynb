{
 "cells": [
  {
   "cell_type": "code",
   "execution_count": 3,
   "metadata": {},
   "outputs": [
    {
     "name": "stdout",
     "output_type": "stream",
     "text": [
      "Base shape: (1000000, 960)\n",
      "Learn shape: (500000, 960)\n",
      "Query shape: (1000, 960)\n",
      "Groundtruth shape: (1000, 100)\n"
     ]
    }
   ],
   "source": [
    "import numpy as np\n",
    "\n",
    "def read_fvecs(filename):\n",
    "    with open(filename, 'rb') as f:\n",
    "        # 읽기\n",
    "        data = np.fromfile(f, dtype='int32')\n",
    "        # 첫 번째 값을 차원으로 사용\n",
    "        dim = data[0]\n",
    "        # 데이터 변환 및 리턴\n",
    "        return data.reshape(-1, dim + 1)[:, 1:].astype('float32')\n",
    "\n",
    "def read_ivecs(filename):\n",
    "    with open(filename, 'rb') as f:\n",
    "        # 읽기\n",
    "        data = np.fromfile(f, dtype='int32')\n",
    "        # 첫 번째 값을 차원으로 사용\n",
    "        dim = data[0]\n",
    "        # 데이터 변환 및 리턴\n",
    "        return data.reshape(-1, dim + 1)[:, 1:]\n",
    "\n",
    "# 파일 경로 설정\n",
    "base_path = '/data/matmang/gist/gist_base.fvecs'\n",
    "learn_path = '/data/matmang/gist/gist_learn.fvecs'\n",
    "query_path = '/data/matmang/gist/gist_query.fvecs'\n",
    "groundtruth_path = '/data/matmang/gist/gist_groundtruth.ivecs'\n",
    "\n",
    "# 파일 읽기\n",
    "gist_base = read_fvecs(base_path)\n",
    "gist_learn = read_fvecs(learn_path)\n",
    "gist_query = read_fvecs(query_path)\n",
    "gist_groundtruth = read_ivecs(groundtruth_path)\n",
    "\n",
    "print(f'Base shape: {gist_base.shape}')\n",
    "print(f'Learn shape: {gist_learn.shape}')\n",
    "print(f'Query shape: {gist_query.shape}')\n",
    "print(f'Groundtruth shape: {gist_groundtruth.shape}')"
   ]
  },
  {
   "cell_type": "code",
   "execution_count": 4,
   "metadata": {},
   "outputs": [],
   "source": [
    "import faiss\n",
    "\n",
    "# 차원 수\n",
    "dim = gist_base.shape[1]\n",
    "\n",
    "# FlatL2 인덱스 생성 및 학습\n",
    "index_flat = faiss.IndexFlatL2(dim)\n",
    "index_flat.add(gist_base)\n",
    "\n",
    "# IVF 인덱스 생성 및 학습\n",
    "nprove = 100  # Number of clusters\n",
    "quantizer = faiss.IndexFlatL2(dim)\n",
    "index_ivf = faiss.IndexIVFFlat(quantizer, dim, nprove)\n",
    "index_ivf.train(gist_learn)\n",
    "index_ivf.add(gist_base)\n",
    "\n",
    "# HNSW 인덱스 생성 및 학습\n",
    "index_hnsw = faiss.IndexHNSWFlat(dim, 32)\n",
    "index_hnsw.add(gist_base)"
   ]
  },
  {
   "cell_type": "code",
   "execution_count": null,
   "metadata": {},
   "outputs": [],
   "source": [
    "def search_and_measure(index, queries, groundtruth, k=5):\n",
    "    distances, indices = index.search(queries, k)\n",
    "    recall = (indices == groundtruth).sum() / float(len(queries))\n",
    "    return distances, indices, recall\n",
    "\n",
    "k = 5\n",
    "flat_distances, flat_indices, flat_recall = search_and_measure(index_flat, gist_query, gist_groundtruth, k)\n",
    "ivf_distances, ivf_indices, ivf_recall = search_and_measure(index_ivf, gist_query, gist_groundtruth, k)\n",
    "hnsw_distances, hnsw_indices, hnsw_recall = search_and_measure(index_hnsw, gist_query, gist_groundtruth, k)\n",
    "\n",
    "print(f'FlatL2 Recall@{k}: {flat_recall:.4f}')\n",
    "print(f'IVF Recall@{k}: {ivf_recall:.4f}')\n",
    "print(f'HNSW Recall@{k}: {hnsw_recall:.4f}')"
   ]
  },
  {
   "cell_type": "code",
   "execution_count": null,
   "metadata": {},
   "outputs": [],
   "source": [
    "import matplotlib.pyplot as plt\n",
    "\n",
    "def plot_results(dataset_name, distances):\n",
    "    plt.figure()\n",
    "    plt.hist(distances.flatten(), bins=100, label=f'{dataset_name} distances')\n",
    "    plt.xlabel('Distance')\n",
    "    plt.ylabel('Frequency')\n",
    "    plt.title(f'Distance Distribution for {dataset_name}')\n",
    "    plt.legend()\n",
    "    plt.show()\n",
    "\n",
    "plot_results('FlatL2', flat_distances)\n",
    "plot_results('IVF', ivf_distances)\n",
    "plot_results('HNSW', hnsw_distances)"
   ]
  }
 ],
 "metadata": {
  "kernelspec": {
   "display_name": "faiss-tutorial",
   "language": "python",
   "name": "python3"
  },
  "language_info": {
   "codemirror_mode": {
    "name": "ipython",
    "version": 3
   },
   "file_extension": ".py",
   "mimetype": "text/x-python",
   "name": "python",
   "nbconvert_exporter": "python",
   "pygments_lexer": "ipython3",
   "version": "3.8.19"
  }
 },
 "nbformat": 4,
 "nbformat_minor": 2
}

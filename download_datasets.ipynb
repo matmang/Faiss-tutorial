{
 "cells": [
  {
   "cell_type": "code",
   "execution_count": 9,
   "metadata": {},
   "outputs": [
    {
     "name": "stderr",
     "output_type": "stream",
     "text": [
      "/home/matmang/anaconda3/envs/faiss-tutorial/lib/python3.8/site-packages/datasets/load.py:1486: FutureWarning: The repository for allenai/peS2o contains custom code which must be executed to correctly load the dataset. You can inspect the repository content at https://hf.co/datasets/allenai/peS2o\n",
      "You can avoid this message in future by passing the argument `trust_remote_code=True`.\n",
      "Passing `trust_remote_code=True` will be mandatory to load this dataset from the next major release of `datasets`.\n",
      "  warnings.warn(\n",
      "Downloading: 161032record [05:09, 520.42record/s] "
     ]
    },
    {
     "name": "stdout",
     "output_type": "stream",
     "text": [
      "Downloaded and saved 161032 records to /data/matmang/peS2o_validation\n"
     ]
    },
    {
     "name": "stderr",
     "output_type": "stream",
     "text": [
      "\n"
     ]
    }
   ],
   "source": [
    "from datasets import load_dataset\n",
    "import os\n",
    "import json\n",
    "from tqdm import tqdm\n",
    "\n",
    "# peS2o_valid 데이터셋만 다운로드\n",
    "peS2o_valid = load_dataset(\"allenai/peS2o\", split=\"validation\", streaming=True)\n",
    "\n",
    "# 저장할 디렉토리 경로 설정\n",
    "save_path = \"/data/matmang/peS2o_validation\"\n",
    "os.makedirs(save_path, exist_ok=True)\n",
    "\n",
    "# 데이터 다운로드와 저장 과정에 tqdm 진행바 추가\n",
    "with tqdm(desc=\"Downloading\", unit=\"record\") as pbar:\n",
    "    for i, data in enumerate(peS2o_valid):\n",
    "        # 데이터 저장\n",
    "        with open(os.path.join(save_path, f\"data_{i}.json\"), 'w') as f:\n",
    "            json.dump(data, f)\n",
    "        \n",
    "        # 진행바 업데이트\n",
    "        pbar.update(1)\n",
    "\n",
    "print(f\"Downloaded and saved {i+1} records to {save_path}\")"
   ]
  },
  {
   "cell_type": "code",
   "execution_count": 10,
   "metadata": {},
   "outputs": [
    {
     "name": "stdout",
     "output_type": "stream",
     "text": [
      "Combined Pickle file saved at /data/matmang/peS2o_validation/combined_peS2o_validation.pkl\n",
      "Loaded 161032 records from /data/matmang/peS2o_validation/combined_peS2o_validation.pkl\n"
     ]
    }
   ],
   "source": [
    "import os\n",
    "import json\n",
    "import pickle\n",
    "\n",
    "# 저장된 JSON 파일들이 있는 디렉토리 경로\n",
    "save_path = \"/data/matmang/peS2o_validation\"\n",
    "\n",
    "# 모든 JSON 데이터를 저장할 리스트\n",
    "all_data = []\n",
    "\n",
    "# 디렉토리 내 모든 파일을 순회하며 데이터 읽기\n",
    "for filename in os.listdir(save_path):\n",
    "    if filename.endswith(\".json\"):\n",
    "        file_path = os.path.join(save_path, filename)\n",
    "        with open(file_path, 'r') as f:\n",
    "            data = json.load(f)\n",
    "            all_data.append(data)\n",
    "\n",
    "# 데이터를 Pickle 파일로 저장\n",
    "combined_file_path = os.path.join(save_path, \"combined_peS2o_validation.pkl\")\n",
    "with open(combined_file_path, 'wb') as f:\n",
    "    pickle.dump(all_data, f)\n",
    "\n",
    "print(f\"Combined Pickle file saved at {combined_file_path}\")\n",
    "\n",
    "# 데이터 로더로 불러오기\n",
    "def load_data(file_path):\n",
    "    with open(file_path, 'rb') as f:\n",
    "        data = pickle.load(f)\n",
    "    return data\n",
    "\n",
    "data = load_data(combined_file_path)\n",
    "print(f\"Loaded {len(data)} records from {combined_file_path}\")"
   ]
  }
 ],
 "metadata": {
  "kernelspec": {
   "display_name": "faiss-tutorial",
   "language": "python",
   "name": "python3"
  },
  "language_info": {
   "codemirror_mode": {
    "name": "ipython",
    "version": 3
   },
   "file_extension": ".py",
   "mimetype": "text/x-python",
   "name": "python",
   "nbconvert_exporter": "python",
   "pygments_lexer": "ipython3",
   "version": "3.8.19"
  }
 },
 "nbformat": 4,
 "nbformat_minor": 2
}
